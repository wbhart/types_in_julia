{
 "cells": [
  {
   "cell_type": "markdown",
   "metadata": {
    "collapsed": false
   },
   "source": [
    "# Introduction to Types in Julia\n",
    "\n",
    "In order to run code in the cells below, press Ctrl-Enter\n",
    "\n",
    "## Contents\n",
    "\n",
    "- [Basic concrete types](https://juliabox.com/notebooks/Types%20in%20Julia/JuliaConcreteTypes.ipynb)\n",
    "- [Basic abstract types](https://juliabox.com/notebooks/Types%20in%20Julia/JuliaAbstractTypes.ipynb)\n",
    "- [User defined types](https://juliabox.com/notebooks/Types%20in%20Julia/UserDefinedTypes.ipynb)\n",
    "- [Functions in Julia](https://juliabox.com/notebooks/Types%20in%20Julia/Functions.ipynb)\n",
    "- [Parent objects in Nemo](https://juliabox.com/notebooks/Types%20in%20Julia/Parents.ipynb)"
   ]
  },
  {
   "cell_type": "code",
   "execution_count": null,
   "metadata": {
    "collapsed": true
   },
   "outputs": [],
   "source": []
  }
 ],
 "metadata": {
  "kernelspec": {
   "display_name": "Julia 0.5.1",
   "language": "julia",
   "name": "julia-0.5"
  },
  "language_info": {
   "file_extension": ".jl",
   "mimetype": "application/julia",
   "name": "julia",
   "version": "0.5.1"
  }
 },
 "nbformat": 4,
 "nbformat_minor": 1
}
