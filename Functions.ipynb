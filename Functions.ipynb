{
 "cells": [
  {
   "cell_type": "markdown",
   "metadata": {},
   "source": [
    "# Functions in Julia\n",
    "\n",
    "Functions give types their behaviour in Julia\n",
    "\n",
    "Two kinds of functions:\n",
    "\n",
    "- methods\n",
    "- generic functions\n",
    "\n",
    "### Methods\n",
    "\n",
    "Apply to concrete types\n",
    "\n",
    "**Example:** simple integer function"
   ]
  },
  {
   "cell_type": "code",
   "execution_count": 1,
   "metadata": {
    "collapsed": false
   },
   "outputs": [
    {
     "data": {
      "text/plain": [
       "myadd (generic function with 1 method)"
      ]
     },
     "execution_count": 1,
     "metadata": {},
     "output_type": "execute_result"
    }
   ],
   "source": [
    "function myadd(a::Int, b::Int)\n",
    "    return a + b + a*b\n",
    "end"
   ]
  },
  {
   "cell_type": "code",
   "execution_count": 2,
   "metadata": {
    "collapsed": false
   },
   "outputs": [
    {
     "data": {
      "text/plain": [
       "51"
      ]
     },
     "execution_count": 2,
     "metadata": {},
     "output_type": "execute_result"
    }
   ],
   "source": [
    "c = myadd(12, 3)"
   ]
  },
  {
   "cell_type": "markdown",
   "metadata": {},
   "source": [
    "**Example:** method for user defined type"
   ]
  },
  {
   "cell_type": "code",
   "execution_count": 3,
   "metadata": {
    "collapsed": false
   },
   "outputs": [],
   "source": [
    "type Poly\n",
    "    coeffs::Array{Int}\n",
    "    length::Int\n",
    "end"
   ]
  },
  {
   "cell_type": "code",
   "execution_count": 4,
   "metadata": {
    "collapsed": false
   },
   "outputs": [
    {
     "data": {
      "text/plain": [
       "+ (generic function with 164 methods)"
      ]
     },
     "execution_count": 4,
     "metadata": {},
     "output_type": "execute_result"
    }
   ],
   "source": [
    "import Base: +\n",
    "\n",
    "function +(a::Poly, b::Poly)\n",
    "    len = max(a.length, b.length)\n",
    "    m = min(a.length, b.length)\n",
    "    A = Array(Int, len)\n",
    "    for i = 1:m\n",
    "        A[i] = a.coeffs[i] + b.coeffs[i]\n",
    "    end\n",
    "    for i = m + 1:b.length\n",
    "        A[i] = b.coeffs[i]\n",
    "    end\n",
    "    for i = m + 1:a.length\n",
    "        A[i] = a.coeffs[i]\n",
    "    end\n",
    "    while A[len] == 0\n",
    "        len -= 1\n",
    "    end\n",
    "    return Poly(A, len)\n",
    "end"
   ]
  },
  {
   "cell_type": "code",
   "execution_count": 5,
   "metadata": {
    "collapsed": false
   },
   "outputs": [
    {
     "data": {
      "text/plain": [
       "Poly([3,6,0],2)"
      ]
     },
     "execution_count": 5,
     "metadata": {},
     "output_type": "execute_result"
    }
   ],
   "source": [
    "f = Poly([1, 2, 3], 3)\n",
    "g = Poly([2, 4, -3], 3)\n",
    "f + g"
   ]
  },
  {
   "cell_type": "code",
   "execution_count": 6,
   "metadata": {
    "collapsed": false
   },
   "outputs": [],
   "source": [
    "import Base: show\n",
    "\n",
    "function show(io::IO, f::Poly)\n",
    "    if f.length == 0\n",
    "        print(io, \"0\")\n",
    "    else\n",
    "        print(io, f.coeffs[1])\n",
    "        if f.length > 1\n",
    "            if f.coeffs[2] > 0\n",
    "                print(io, \" + \", f.coeffs[2], \"x\")\n",
    "                elseif f.coeffs[2] < 0\n",
    "                print(io, \" - \", -f.coeffs[2], \"x\")\n",
    "            end    \n",
    "        end\n",
    "        for i = 3:f.length\n",
    "            if f.coeffs[i] > 0\n",
    "                print(io, \" + \", f.coeffs[i], \"x^\", i - 1)\n",
    "            elseif f.coeffs[i] < 0\n",
    "                print(io, \" - \", -f.coeffs[i], \"x^\", i - 1)\n",
    "            end\n",
    "        end\n",
    "    end\n",
    "    nothing\n",
    "end\n",
    "\n",
    "export show"
   ]
  },
  {
   "cell_type": "code",
   "execution_count": 7,
   "metadata": {
    "collapsed": false
   },
   "outputs": [
    {
     "name": "stdout",
     "output_type": "stream",
     "text": [
      "1 + 2x + 3x^2\n",
      "2 + 4x - 3x^2\n",
      "3 + 6x\n"
     ]
    }
   ],
   "source": [
    "println(f)\n",
    "println(g)\n",
    "println(f + g)"
   ]
  },
  {
   "cell_type": "markdown",
   "metadata": {},
   "source": [
    "### Generic functions\n",
    "\n",
    "- Take parameterised and abstract types\n",
    "- Correspond to a whole set of functions; one for each type parameter/concrete type\n",
    "\n",
    "**Example:** generic function (parameterised)"
   ]
  },
  {
   "cell_type": "code",
   "execution_count": 8,
   "metadata": {
    "collapsed": false
   },
   "outputs": [
    {
     "data": {
      "text/plain": [
       "add (generic function with 1 method)"
      ]
     },
     "execution_count": 8,
     "metadata": {},
     "output_type": "execute_result"
    }
   ],
   "source": [
    "function add{T <: Number}(A::Array{T, 1}, B::Array{T, 1})\n",
    "    length(A) != length(B) && error(\"Lengths not equal!\")\n",
    "    len = length(A)\n",
    "    R = Array(T, len)\n",
    "    for i = 1:len\n",
    "        R[i] = A[i] + B[i]\n",
    "    end\n",
    "    return R\n",
    "end     "
   ]
  },
  {
   "cell_type": "code",
   "execution_count": 9,
   "metadata": {
    "collapsed": false
   },
   "outputs": [
    {
     "data": {
      "text/plain": [
       "3-element Array{Int64,1}:\n",
       "  3\n",
       "  5\n",
       " 10"
      ]
     },
     "execution_count": 9,
     "metadata": {},
     "output_type": "execute_result"
    }
   ],
   "source": [
    "add([1, 2, 3], [2, 3, 7])"
   ]
  },
  {
   "cell_type": "code",
   "execution_count": 10,
   "metadata": {
    "collapsed": false
   },
   "outputs": [
    {
     "data": {
      "text/plain": [
       "3-element Array{Float64,1}:\n",
       " 3.2\n",
       " 5.2\n",
       " 8.7"
      ]
     },
     "execution_count": 10,
     "metadata": {},
     "output_type": "execute_result"
    }
   ],
   "source": [
    "add([1.2, 2.1, 1.0], [2.0, 3.1, 7.7])"
   ]
  },
  {
   "cell_type": "code",
   "execution_count": 11,
   "metadata": {
    "collapsed": false
   },
   "outputs": [
    {
     "ename": "LoadError",
     "evalue": "MethodError: no method matching add(::Array{Char,1}, ::Array{Char,1})",
     "output_type": "error",
     "traceback": [
      "MethodError: no method matching add(::Array{Char,1}, ::Array{Char,1})",
      ""
     ]
    }
   ],
   "source": [
    "add(['c', 'a', 'b'], ['x', 'y', 'z'])"
   ]
  },
  {
   "cell_type": "markdown",
   "metadata": {},
   "source": [
    "**Example:** Generic function (abstract)"
   ]
  },
  {
   "cell_type": "code",
   "execution_count": 12,
   "metadata": {
    "collapsed": false
   },
   "outputs": [
    {
     "data": {
      "text/plain": [
       "myadd (generic function with 2 methods)"
      ]
     },
     "execution_count": 12,
     "metadata": {},
     "output_type": "execute_result"
    }
   ],
   "source": [
    "function myadd(a::Real, b::Real)\n",
    "    return a + b + a*b\n",
    "end"
   ]
  },
  {
   "cell_type": "code",
   "execution_count": 13,
   "metadata": {
    "collapsed": false
   },
   "outputs": [
    {
     "data": {
      "text/plain": [
       "5"
      ]
     },
     "execution_count": 13,
     "metadata": {},
     "output_type": "execute_result"
    }
   ],
   "source": [
    "myadd(1, 2)"
   ]
  },
  {
   "cell_type": "code",
   "execution_count": 14,
   "metadata": {
    "collapsed": false
   },
   "outputs": [
    {
     "data": {
      "text/plain": [
       "5.0"
      ]
     },
     "execution_count": 14,
     "metadata": {},
     "output_type": "execute_result"
    }
   ],
   "source": [
    "myadd(1.0, 2.0)"
   ]
  },
  {
   "cell_type": "code",
   "execution_count": 15,
   "metadata": {
    "collapsed": false
   },
   "outputs": [
    {
     "data": {
      "text/plain": [
       "5.0"
      ]
     },
     "execution_count": 15,
     "metadata": {},
     "output_type": "execute_result"
    }
   ],
   "source": [
    "myadd(1, 2.0)"
   ]
  },
  {
   "cell_type": "markdown",
   "metadata": {},
   "source": [
    "**Example:** (mixed)"
   ]
  },
  {
   "cell_type": "code",
   "execution_count": 17,
   "metadata": {
    "collapsed": false
   },
   "outputs": [
    {
     "data": {
      "text/plain": [
       "mymul (generic function with 1 method)"
      ]
     },
     "execution_count": 17,
     "metadata": {},
     "output_type": "execute_result"
    }
   ],
   "source": [
    "function mymul{T <: Number}(A::Array{T, 1}, c::T)\n",
    "    len = length(A)\n",
    "    R = Array(T, len)\n",
    "    for i = 1:len\n",
    "        R[i] = A[i]*c\n",
    "    end\n",
    "    return R\n",
    "end"
   ]
  },
  {
   "cell_type": "code",
   "execution_count": 18,
   "metadata": {
    "collapsed": false
   },
   "outputs": [
    {
     "data": {
      "text/plain": [
       "3-element Array{Int64,1}:\n",
       "  7\n",
       " 14\n",
       " 21"
      ]
     },
     "execution_count": 18,
     "metadata": {},
     "output_type": "execute_result"
    }
   ],
   "source": [
    "mymul([1, 2, 3], 7)"
   ]
  },
  {
   "cell_type": "markdown",
   "metadata": {},
   "source": [
    "**Example:** (improved mixed)"
   ]
  },
  {
   "cell_type": "code",
   "execution_count": 19,
   "metadata": {
    "collapsed": false
   },
   "outputs": [
    {
     "data": {
      "text/plain": [
       "myscale (generic function with 1 method)"
      ]
     },
     "execution_count": 19,
     "metadata": {},
     "output_type": "execute_result"
    }
   ],
   "source": [
    "myscale{T <: Number}(A::Array{T, 1}, c::T) = [A[i]*c for i in 1:length(A)]"
   ]
  },
  {
   "cell_type": "code",
   "execution_count": 20,
   "metadata": {
    "collapsed": false
   },
   "outputs": [
    {
     "data": {
      "text/plain": [
       "3-element Array{Int64,1}:\n",
       "  7\n",
       " 14\n",
       " 21"
      ]
     },
     "execution_count": 20,
     "metadata": {},
     "output_type": "execute_result"
    }
   ],
   "source": [
    "myscale([1, 2, 3], 7)"
   ]
  },
  {
   "cell_type": "code",
   "execution_count": null,
   "metadata": {
    "collapsed": true
   },
   "outputs": [],
   "source": []
  }
 ],
 "metadata": {
  "kernelspec": {
   "display_name": "Julia 0.5.1",
   "language": "julia",
   "name": "julia-0.5"
  },
  "language_info": {
   "file_extension": ".jl",
   "mimetype": "application/julia",
   "name": "julia",
   "version": "0.5.1"
  }
 },
 "nbformat": 4,
 "nbformat_minor": 1
}
